{
 "cells": [
  {
   "cell_type": "markdown",
   "id": "4d572e6d-0a9c-4fbe-8453-2ca7916a2d10",
   "metadata": {},
   "source": [
    "# Data Science Tools and Ecosystem"
   ]
  },
  {
   "cell_type": "markdown",
   "id": "873767dd-441c-43bf-bc73-29b1d068d5a8",
   "metadata": {},
   "source": [
    "In this notebook, Data Science Tools and Ecosystem are summarized."
   ]
  },
  {
   "cell_type": "markdown",
   "id": "ff4c46da-1231-4493-a3fc-749c63e55a1a",
   "metadata": {},
   "source": [
    "Some of the popular languages that Data Scientists use are:\n",
    "1. Python\n",
    "2. R\n",
    "3. SQL\n",
    "4. Julia\n",
    "5. Java\n",
    "6. C++"
   ]
  },
  {
   "cell_type": "markdown",
   "id": "e18cc1cc-e424-4597-8b7c-3a87f0e24fd0",
   "metadata": {},
   "source": [
    "Some of the commonly used libraries used by Data Scientists include:\n",
    "1. PyTorch\n",
    "2. TensorFlow\n",
    "3. Pandas\n",
    "4. Scikit-learn\n",
    "5. Ggplot"
   ]
  },
  {
   "cell_type": "markdown",
   "id": "595d5f08-e1de-4e6d-b8c7-4a605e7e7e6b",
   "metadata": {},
   "source": [
    "|Data Science Tools|\n",
    "|------------|\n",
    "|Jupyter Notebooks|\n",
    "|Git|\n",
    "|R Studio|\n",
    "|Apache Hadoop|"
   ]
  },
  {
   "cell_type": "markdown",
   "id": "4cb089df-ac2a-426e-91e9-8897087696cd",
   "metadata": {},
   "source": [
    "### Below are a few examples of evaluating arithmetic expressions in Python"
   ]
  },
  {
   "cell_type": "code",
   "execution_count": 2,
   "id": "a423ba7a-fbb2-4adf-8019-93b68bd63937",
   "metadata": {},
   "outputs": [
    {
     "data": {
      "text/plain": [
       "17"
      ]
     },
     "execution_count": 2,
     "metadata": {},
     "output_type": "execute_result"
    }
   ],
   "source": [
    "#This a simple arithmetic expression to mutiply then add integers\n",
    "(3*4)+5"
   ]
  },
  {
   "cell_type": "code",
   "execution_count": 4,
   "id": "5f954133-a3cc-4d6d-b251-8d24393bb49a",
   "metadata": {},
   "outputs": [
    {
     "data": {
      "text/plain": [
       "3.3333333333333335"
      ]
     },
     "execution_count": 4,
     "metadata": {},
     "output_type": "execute_result"
    }
   ],
   "source": [
    "#This will convert 200 minutes to hours by diving by 60\n",
    "200/60"
   ]
  },
  {
   "cell_type": "markdown",
   "id": "00a8540f-2369-4608-87b9-e7079c0e7afa",
   "metadata": {},
   "source": [
    "**Objectives:**\n",
    "+ Jupyter Notebooks\n",
    "+ Git\n",
    "+ R Studio\n",
    "+ Apache Hadoop\n"
   ]
  },
  {
   "cell_type": "markdown",
   "id": "75907dad-600a-4e2b-a5e0-37f34e3d67ac",
   "metadata": {},
   "source": [
    "## Author\n",
    "Rostyslav Protsiuk"
   ]
  },
  {
   "cell_type": "code",
   "execution_count": null,
   "id": "25c637d2-6fee-431a-ae0b-96e533e0dd37",
   "metadata": {},
   "outputs": [],
   "source": []
  }
 ],
 "metadata": {
  "kernelspec": {
   "display_name": "Python 3 (ipykernel)",
   "language": "python",
   "name": "python3"
  },
  "language_info": {
   "codemirror_mode": {
    "name": "ipython",
    "version": 3
   },
   "file_extension": ".py",
   "mimetype": "text/x-python",
   "name": "python",
   "nbconvert_exporter": "python",
   "pygments_lexer": "ipython3",
   "version": "3.11.5"
  }
 },
 "nbformat": 4,
 "nbformat_minor": 5
}
